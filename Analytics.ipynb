{
 "cells": [
  {
   "cell_type": "code",
   "execution_count": 2,
   "metadata": {
    "collapsed": true
   },
   "outputs": [],
   "source": [
    "import pandas as pd\n",
    "import numpy as np\n",
    "import matplotlib.pyplot as plt"
   ]
  },
  {
   "cell_type": "code",
   "execution_count": 3,
   "metadata": {
    "collapsed": true
   },
   "outputs": [],
   "source": [
    "%matplotlib inline"
   ]
  },
  {
   "cell_type": "code",
   "execution_count": 5,
   "metadata": {},
   "outputs": [
    {
     "data": {
      "text/html": [
       "<div>\n",
       "<style>\n",
       "    .dataframe thead tr:only-child th {\n",
       "        text-align: right;\n",
       "    }\n",
       "\n",
       "    .dataframe thead th {\n",
       "        text-align: left;\n",
       "    }\n",
       "\n",
       "    .dataframe tbody tr th {\n",
       "        vertical-align: top;\n",
       "    }\n",
       "</style>\n",
       "<table border=\"1\" class=\"dataframe\">\n",
       "  <thead>\n",
       "    <tr style=\"text-align: right;\">\n",
       "      <th></th>\n",
       "      <th>flower.name</th>\n",
       "      <th>flower.version</th>\n",
       "      <th>index</th>\n",
       "      <th>start</th>\n",
       "      <th>stop</th>\n",
       "      <th>elapseTime</th>\n",
       "      <th>result</th>\n",
       "    </tr>\n",
       "  </thead>\n",
       "  <tbody>\n",
       "    <tr>\n",
       "      <th>0</th>\n",
       "      <td>daisy2</td>\n",
       "      <td>0</td>\n",
       "      <td>0</td>\n",
       "      <td>5.397207e+08</td>\n",
       "      <td>5.397207e+08</td>\n",
       "      <td>0.033575</td>\n",
       "      <td>(0.84) dandelion;  (0.15) roses</td>\n",
       "    </tr>\n",
       "    <tr>\n",
       "      <th>1</th>\n",
       "      <td>daisy4</td>\n",
       "      <td>0</td>\n",
       "      <td>1</td>\n",
       "      <td>5.397207e+08</td>\n",
       "      <td>5.397207e+08</td>\n",
       "      <td>0.004979</td>\n",
       "      <td>(0.67) sunflowers;  (0.21) dandelion</td>\n",
       "    </tr>\n",
       "    <tr>\n",
       "      <th>2</th>\n",
       "      <td>dandelion2</td>\n",
       "      <td>0</td>\n",
       "      <td>2</td>\n",
       "      <td>5.397207e+08</td>\n",
       "      <td>5.397207e+08</td>\n",
       "      <td>0.006668</td>\n",
       "      <td>(0.96) dandelion;  (0.03) roses</td>\n",
       "    </tr>\n",
       "    <tr>\n",
       "      <th>3</th>\n",
       "      <td>dandelion4</td>\n",
       "      <td>0</td>\n",
       "      <td>3</td>\n",
       "      <td>5.397207e+08</td>\n",
       "      <td>5.397207e+08</td>\n",
       "      <td>0.005173</td>\n",
       "      <td>(0.53) roses;  (0.40) dandelion</td>\n",
       "    </tr>\n",
       "    <tr>\n",
       "      <th>4</th>\n",
       "      <td>roses2</td>\n",
       "      <td>0</td>\n",
       "      <td>4</td>\n",
       "      <td>5.397207e+08</td>\n",
       "      <td>5.397207e+08</td>\n",
       "      <td>0.004885</td>\n",
       "      <td>(0.69) roses;  (0.20) daisy</td>\n",
       "    </tr>\n",
       "  </tbody>\n",
       "</table>\n",
       "</div>"
      ],
      "text/plain": [
       "  flower.name  flower.version  index         start          stop  elapseTime  \\\n",
       "0      daisy2               0      0  5.397207e+08  5.397207e+08    0.033575   \n",
       "1      daisy4               0      1  5.397207e+08  5.397207e+08    0.004979   \n",
       "2  dandelion2               0      2  5.397207e+08  5.397207e+08    0.006668   \n",
       "3  dandelion4               0      3  5.397207e+08  5.397207e+08    0.005173   \n",
       "4      roses2               0      4  5.397207e+08  5.397207e+08    0.004885   \n",
       "\n",
       "                                   result  \n",
       "0         (0.84) dandelion;  (0.15) roses  \n",
       "1    (0.67) sunflowers;  (0.21) dandelion  \n",
       "2         (0.96) dandelion;  (0.03) roses  \n",
       "3         (0.53) roses;  (0.40) dandelion  \n",
       "4             (0.69) roses;  (0.20) daisy  "
      ]
     },
     "execution_count": 5,
     "metadata": {},
     "output_type": "execute_result"
    }
   ],
   "source": [
    "sales=pd.read_csv(\"procpu.csv\")\n",
    "sales.head()"
   ]
  },
  {
   "cell_type": "code",
   "execution_count": 6,
   "metadata": {},
   "outputs": [
    {
     "data": {
      "text/plain": [
       "<matplotlib.axes._subplots.AxesSubplot at 0x10ced1650>"
      ]
     },
     "execution_count": 6,
     "metadata": {},
     "output_type": "execute_result"
    },
    {
     "data": {
      "image/png": "[encoded data removed]",
      "text/plain": [
       "<matplotlib.figure.Figure at 0x10bea7350>"
      ]
     },
     "metadata": {},
     "output_type": "display_data"
    }
   ],
   "source": [
    "sales.elapseTime.hist()"
   ]
  },
  {
   "cell_type": "code",
   "execution_count": 24,
   "metadata": {},
   "outputs": [
    {
     "data": {
      "text/html": [
       "<div>\n",
       "<style>\n",
       "    .dataframe thead tr:only-child th {\n",
       "        text-align: right;\n",
       "    }\n",
       "\n",
       "    .dataframe thead th {\n",
       "        text-align: left;\n",
       "    }\n",
       "\n",
       "    .dataframe tbody tr th {\n",
       "        vertical-align: top;\n",
       "    }\n",
       "</style>\n",
       "<table border=\"1\" class=\"dataframe\">\n",
       "  <thead>\n",
       "    <tr style=\"text-align: right;\">\n",
       "      <th></th>\n",
       "      <th>flower.name</th>\n",
       "      <th>flower.version</th>\n",
       "      <th>index</th>\n",
       "      <th>start</th>\n",
       "      <th>stop</th>\n",
       "      <th>elapseTime</th>\n",
       "      <th>result</th>\n",
       "    </tr>\n",
       "  </thead>\n",
       "  <tbody>\n",
       "    <tr>\n",
       "      <th>0</th>\n",
       "      <td>daisy2</td>\n",
       "      <td>0</td>\n",
       "      <td>0</td>\n",
       "      <td>5.397220e+08</td>\n",
       "      <td>5.397220e+08</td>\n",
       "      <td>0.031144</td>\n",
       "      <td>(0.84) dandelion;  (0.16) roses</td>\n",
       "    </tr>\n",
       "    <tr>\n",
       "      <th>1</th>\n",
       "      <td>daisy4</td>\n",
       "      <td>0</td>\n",
       "      <td>1</td>\n",
       "      <td>5.397220e+08</td>\n",
       "      <td>5.397220e+08</td>\n",
       "      <td>0.008311</td>\n",
       "      <td>(0.62) sunflowers;  (0.23) dandelion</td>\n",
       "    </tr>\n",
       "    <tr>\n",
       "      <th>2</th>\n",
       "      <td>dandelion2</td>\n",
       "      <td>0</td>\n",
       "      <td>2</td>\n",
       "      <td>5.397220e+08</td>\n",
       "      <td>5.397220e+08</td>\n",
       "      <td>0.019461</td>\n",
       "      <td>(0.96) dandelion;  (0.03) roses</td>\n",
       "    </tr>\n",
       "    <tr>\n",
       "      <th>3</th>\n",
       "      <td>dandelion4</td>\n",
       "      <td>0</td>\n",
       "      <td>3</td>\n",
       "      <td>5.397220e+08</td>\n",
       "      <td>5.397220e+08</td>\n",
       "      <td>0.019240</td>\n",
       "      <td>(0.50) roses;  (0.41) dandelion</td>\n",
       "    </tr>\n",
       "    <tr>\n",
       "      <th>4</th>\n",
       "      <td>roses2</td>\n",
       "      <td>0</td>\n",
       "      <td>4</td>\n",
       "      <td>5.397220e+08</td>\n",
       "      <td>5.397220e+08</td>\n",
       "      <td>0.022586</td>\n",
       "      <td>(0.80) roses;  (0.10) daisy</td>\n",
       "    </tr>\n",
       "  </tbody>\n",
       "</table>\n",
       "</div>"
      ],
      "text/plain": [
       "  flower.name  flower.version  index         start          stop  elapseTime  \\\n",
       "0      daisy2               0      0  5.397220e+08  5.397220e+08    0.031144   \n",
       "1      daisy4               0      1  5.397220e+08  5.397220e+08    0.008311   \n",
       "2  dandelion2               0      2  5.397220e+08  5.397220e+08    0.019461   \n",
       "3  dandelion4               0      3  5.397220e+08  5.397220e+08    0.019240   \n",
       "4      roses2               0      4  5.397220e+08  5.397220e+08    0.022586   \n",
       "\n",
       "                                   result  \n",
       "0         (0.84) dandelion;  (0.16) roses  \n",
       "1    (0.62) sunflowers;  (0.23) dandelion  \n",
       "2         (0.96) dandelion;  (0.03) roses  \n",
       "3         (0.50) roses;  (0.41) dandelion  \n",
       "4             (0.80) roses;  (0.10) daisy  "
      ]
     },
     "execution_count": 24,
     "metadata": {},
     "output_type": "execute_result"
    }
   ],
   "source": [
    "als=pd.read_csv(\"progpu.csv\")\n",
    "als.head()"
   ]
  },
  {
   "cell_type": "code",
   "execution_count": 25,
   "metadata": {},
   "outputs": [
    {
     "data": {
      "text/html": [
       "<div>\n",
       "<style>\n",
       "    .dataframe thead tr:only-child th {\n",
       "        text-align: right;\n",
       "    }\n",
       "\n",
       "    .dataframe thead th {\n",
       "        text-align: left;\n",
       "    }\n",
       "\n",
       "    .dataframe tbody tr th {\n",
       "        vertical-align: top;\n",
       "    }\n",
       "</style>\n",
       "<table border=\"1\" class=\"dataframe\">\n",
       "  <thead>\n",
       "    <tr style=\"text-align: right;\">\n",
       "      <th></th>\n",
       "      <th>flower.version</th>\n",
       "      <th>index</th>\n",
       "      <th>start</th>\n",
       "      <th>stop</th>\n",
       "      <th>elapseTime</th>\n",
       "    </tr>\n",
       "  </thead>\n",
       "  <tbody>\n",
       "    <tr>\n",
       "      <th>count</th>\n",
       "      <td>1600.0</td>\n",
       "      <td>1600.000000</td>\n",
       "      <td>1.600000e+03</td>\n",
       "      <td>1.600000e+03</td>\n",
       "      <td>1600.000000</td>\n",
       "    </tr>\n",
       "    <tr>\n",
       "      <th>mean</th>\n",
       "      <td>0.0</td>\n",
       "      <td>9.500000</td>\n",
       "      <td>5.397221e+08</td>\n",
       "      <td>5.397221e+08</td>\n",
       "      <td>0.016051</td>\n",
       "    </tr>\n",
       "    <tr>\n",
       "      <th>std</th>\n",
       "      <td>0.0</td>\n",
       "      <td>5.768084</td>\n",
       "      <td>5.684836e+01</td>\n",
       "      <td>5.684825e+01</td>\n",
       "      <td>0.001877</td>\n",
       "    </tr>\n",
       "    <tr>\n",
       "      <th>min</th>\n",
       "      <td>0.0</td>\n",
       "      <td>0.000000</td>\n",
       "      <td>5.397220e+08</td>\n",
       "      <td>5.397220e+08</td>\n",
       "      <td>0.005989</td>\n",
       "    </tr>\n",
       "    <tr>\n",
       "      <th>25%</th>\n",
       "      <td>0.0</td>\n",
       "      <td>4.750000</td>\n",
       "      <td>5.397221e+08</td>\n",
       "      <td>5.397221e+08</td>\n",
       "      <td>0.015906</td>\n",
       "    </tr>\n",
       "    <tr>\n",
       "      <th>50%</th>\n",
       "      <td>0.0</td>\n",
       "      <td>9.500000</td>\n",
       "      <td>5.397221e+08</td>\n",
       "      <td>5.397221e+08</td>\n",
       "      <td>0.016116</td>\n",
       "    </tr>\n",
       "    <tr>\n",
       "      <th>75%</th>\n",
       "      <td>0.0</td>\n",
       "      <td>14.250000</td>\n",
       "      <td>5.397222e+08</td>\n",
       "      <td>5.397222e+08</td>\n",
       "      <td>0.016454</td>\n",
       "    </tr>\n",
       "    <tr>\n",
       "      <th>max</th>\n",
       "      <td>0.0</td>\n",
       "      <td>19.000000</td>\n",
       "      <td>5.397222e+08</td>\n",
       "      <td>5.397222e+08</td>\n",
       "      <td>0.032018</td>\n",
       "    </tr>\n",
       "  </tbody>\n",
       "</table>\n",
       "</div>"
      ],
      "text/plain": [
       "       flower.version        index         start          stop   elapseTime\n",
       "count          1600.0  1600.000000  1.600000e+03  1.600000e+03  1600.000000\n",
       "mean              0.0     9.500000  5.397221e+08  5.397221e+08     0.016051\n",
       "std               0.0     5.768084  5.684836e+01  5.684825e+01     0.001877\n",
       "min               0.0     0.000000  5.397220e+08  5.397220e+08     0.005989\n",
       "25%               0.0     4.750000  5.397221e+08  5.397221e+08     0.015906\n",
       "50%               0.0     9.500000  5.397221e+08  5.397221e+08     0.016116\n",
       "75%               0.0    14.250000  5.397222e+08  5.397222e+08     0.016454\n",
       "max               0.0    19.000000  5.397222e+08  5.397222e+08     0.032018"
      ]
     },
     "execution_count": 25,
     "metadata": {},
     "output_type": "execute_result"
    }
   ],
   "source": [
    "als.describe()"
   ]
  },
  {
   "cell_type": "code",
   "execution_count": 26,
   "metadata": {},
   "outputs": [
    {
     "name": "stdout",
     "output_type": "stream",
     "text": [
      "<class 'pandas.core.frame.DataFrame'>\n",
      "RangeIndex: 1600 entries, 0 to 1599\n",
      "Data columns (total 7 columns):\n",
      "flower.name       1600 non-null object\n",
      "flower.version    1600 non-null int64\n",
      "index             1600 non-null int64\n",
      "start             1600 non-null float64\n",
      "stop              1600 non-null float64\n",
      "elapseTime        1600 non-null float64\n",
      "result            1600 non-null object\n",
      "dtypes: float64(3), int64(2), object(2)\n",
      "memory usage: 87.6+ KB\n"
     ]
    }
   ],
   "source": [
    "als.info()"
   ]
  },
  {
   "cell_type": "code",
   "execution_count": 27,
   "metadata": {},
   "outputs": [
    {
     "data": {
      "text/plain": [
       "<matplotlib.axes._subplots.AxesSubplot at 0x10dbdd650>"
      ]
     },
     "execution_count": 27,
     "metadata": {},
     "output_type": "execute_result"
    },
    {
     "data": {
      "image/png": "[encoded data removed]",
      "text/plain": [
       "<matplotlib.figure.Figure at 0x10e07a710>"
      ]
     },
     "metadata": {},
     "output_type": "display_data"
    }
   ],
   "source": [
    "als.elapseTime.hist(bins=100)"
   ]
  },
  {
   "cell_type": "code",
   "execution_count": 32,
   "metadata": {},
   "outputs": [
    {
     "data": {
      "text/html": [
       "<div>\n",
       "<style>\n",
       "    .dataframe thead tr:only-child th {\n",
       "        text-align: right;\n",
       "    }\n",
       "\n",
       "    .dataframe thead th {\n",
       "        text-align: left;\n",
       "    }\n",
       "\n",
       "    .dataframe tbody tr th {\n",
       "        vertical-align: top;\n",
       "    }\n",
       "</style>\n",
       "<table border=\"1\" class=\"dataframe\">\n",
       "  <thead>\n",
       "    <tr style=\"text-align: right;\">\n",
       "      <th></th>\n",
       "      <th>flower.version</th>\n",
       "      <th>index</th>\n",
       "      <th>start</th>\n",
       "      <th>stop</th>\n",
       "      <th>elapseTime</th>\n",
       "    </tr>\n",
       "  </thead>\n",
       "  <tbody>\n",
       "    <tr>\n",
       "      <th>count</th>\n",
       "      <td>2000.0</td>\n",
       "      <td>2000.000000</td>\n",
       "      <td>2.000000e+03</td>\n",
       "      <td>2.000000e+03</td>\n",
       "      <td>2000.000000</td>\n",
       "    </tr>\n",
       "    <tr>\n",
       "      <th>mean</th>\n",
       "      <td>0.0</td>\n",
       "      <td>9.500000</td>\n",
       "      <td>5.397295e+08</td>\n",
       "      <td>5.397295e+08</td>\n",
       "      <td>0.010202</td>\n",
       "    </tr>\n",
       "    <tr>\n",
       "      <th>std</th>\n",
       "      <td>0.0</td>\n",
       "      <td>5.767723</td>\n",
       "      <td>6.780416e+01</td>\n",
       "      <td>6.780420e+01</td>\n",
       "      <td>0.001395</td>\n",
       "    </tr>\n",
       "    <tr>\n",
       "      <th>min</th>\n",
       "      <td>0.0</td>\n",
       "      <td>0.000000</td>\n",
       "      <td>5.397293e+08</td>\n",
       "      <td>5.397293e+08</td>\n",
       "      <td>0.005427</td>\n",
       "    </tr>\n",
       "    <tr>\n",
       "      <th>25%</th>\n",
       "      <td>0.0</td>\n",
       "      <td>4.750000</td>\n",
       "      <td>5.397294e+08</td>\n",
       "      <td>5.397294e+08</td>\n",
       "      <td>0.010150</td>\n",
       "    </tr>\n",
       "    <tr>\n",
       "      <th>50%</th>\n",
       "      <td>0.0</td>\n",
       "      <td>9.500000</td>\n",
       "      <td>5.397295e+08</td>\n",
       "      <td>5.397295e+08</td>\n",
       "      <td>0.010390</td>\n",
       "    </tr>\n",
       "    <tr>\n",
       "      <th>75%</th>\n",
       "      <td>0.0</td>\n",
       "      <td>14.250000</td>\n",
       "      <td>5.397295e+08</td>\n",
       "      <td>5.397295e+08</td>\n",
       "      <td>0.010669</td>\n",
       "    </tr>\n",
       "    <tr>\n",
       "      <th>max</th>\n",
       "      <td>0.0</td>\n",
       "      <td>19.000000</td>\n",
       "      <td>5.397296e+08</td>\n",
       "      <td>5.397296e+08</td>\n",
       "      <td>0.034371</td>\n",
       "    </tr>\n",
       "  </tbody>\n",
       "</table>\n",
       "</div>"
      ],
      "text/plain": [
       "       flower.version        index         start          stop   elapseTime\n",
       "count          2000.0  2000.000000  2.000000e+03  2.000000e+03  2000.000000\n",
       "mean              0.0     9.500000  5.397295e+08  5.397295e+08     0.010202\n",
       "std               0.0     5.767723  6.780416e+01  6.780420e+01     0.001395\n",
       "min               0.0     0.000000  5.397293e+08  5.397293e+08     0.005427\n",
       "25%               0.0     4.750000  5.397294e+08  5.397294e+08     0.010150\n",
       "50%               0.0     9.500000  5.397295e+08  5.397295e+08     0.010390\n",
       "75%               0.0    14.250000  5.397295e+08  5.397295e+08     0.010669\n",
       "max               0.0    19.000000  5.397296e+08  5.397296e+08     0.034371"
      ]
     },
     "execution_count": 32,
     "metadata": {},
     "output_type": "execute_result"
    }
   ],
   "source": [
    "arc=pd.read_csv(\"arthurBuffer.csv\")\n",
    "arc.describe()"
   ]
  },
  {
   "cell_type": "code",
   "execution_count": 33,
   "metadata": {},
   "outputs": [
    {
     "data": {
      "text/plain": [
       "<matplotlib.axes._subplots.AxesSubplot at 0x10e6604d0>"
      ]
     },
     "execution_count": 33,
     "metadata": {},
     "output_type": "execute_result"
    },
    {
     "data": {
      "image/png": "[encoded data removed]",
      "text/plain": [
       "<matplotlib.figure.Figure at 0x10e5f23d0>"
      ]
     },
     "metadata": {},
     "output_type": "display_data"
    }
   ],
   "source": [
    "arc.elapseTime.hist(bins=100)"
   ]
  },
  {
   "cell_type": "code",
   "execution_count": 31,
   "metadata": {},
   "outputs": [
    {
     "data": {
      "text/plain": [
       "98.0192296331086"
      ]
     },
     "execution_count": 31,
     "metadata": {},
     "output_type": "execute_result"
    }
   ],
   "source": [
    "1/0.0102020797729492"
   ]
  },
  {
   "cell_type": "code",
   "execution_count": null,
   "metadata": {
    "collapsed": true
   },
   "outputs": [],
   "source": []
  }
 ],
 "metadata": {
  "kernelspec": {
   "display_name": "Python 2",
   "language": "python",
   "name": "python2"
  },
  "language_info": {
   "codemirror_mode": {
    "name": "ipython",
    "version": 2
   },
   "file_extension": ".py",
   "mimetype": "text/x-python",
   "name": "python",
   "nbconvert_exporter": "python",
   "pygments_lexer": "ipython2",
   "version": "2.7.13"
  }
 },
 "nbformat": 4,
 "nbformat_minor": 2
}
