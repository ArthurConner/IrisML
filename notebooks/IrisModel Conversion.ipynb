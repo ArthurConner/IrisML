{
 "cells": [
  {
   "cell_type": "markdown",
   "metadata": {},
   "source": [
    "### Trying to convert a simple model"
   ]
  },
  {
   "cell_type": "code",
   "execution_count": 1,
   "metadata": {},
   "outputs": [
    {
     "name": "stdout",
     "output_type": "stream",
     "text": [
      "Data For Testing:\n",
      "[[6.7 3.  5.2 2.3]\n",
      " [4.9 3.1 1.5 0.1]\n",
      " [7.7 2.6 6.9 2.3]\n",
      " [6.2 3.4 5.4 2.3]\n",
      " [5.  3.5 1.3 0.3]\n",
      " [6.  3.4 4.5 1.6]\n",
      " [6.9 3.1 5.1 2.3]\n",
      " [7.2 3.6 6.1 2.5]\n",
      " [7.9 3.8 6.4 2. ]\n",
      " [6.  2.2 4.  1. ]]\n",
      "[2 0 2 2 0 1 2 2 2 1]\n",
      "Cross Validation Scores\n",
      "[0.93333333 0.93333333 1.         1.         1.         0.85714286\n",
      " 0.92857143 1.         0.91666667 1.        ]\n",
      "mean: 0.9569047619047618\n"
     ]
    }
   ],
   "source": [
    "import numpy as np\n",
    "from sklearn import datasets\n",
    "from sklearn.model_selection import cross_val_score\n",
    "from sklearn.linear_model import LogisticRegression\n",
    "\n",
    "# load iris dataset and set features / target.\n",
    "iris = datasets.load_iris()\n",
    "indices = np.random.permutation(len(iris.data))\n",
    "iris_X = iris.data[indices[:-10]]\n",
    "iris_y = iris.target[indices[:-10]]\n",
    "\n",
    "print(\"Data For Testing:\")\n",
    "print(iris.data[indices[-10:]])\n",
    "print(iris.target[indices[-10:]])\n",
    "\n",
    "# Create and fit a model\n",
    "model = LogisticRegression()\n",
    "model.fit(iris_X, iris_y)\n",
    "cross_score = cross_val_score(model, iris_X, iris_y, cv=10)\n",
    "print \"Cross Validation Scores\"\n",
    "print cross_score\n",
    "print \"mean:\",np.mean(cross_score)\n",
    "\n",
    "import coremltools\n",
    "# convert to coreml model\n",
    "coreml_model = coremltools.converters.sklearn.convert(model, iris.feature_names, \"class\")\n",
    "\n",
    "# set parameters of the model\n",
    "coreml_model.short_description = \"Iris dataset classification model\"\n",
    "coreml_model.output_description[\"class\"] = \"The species of flower\"\n",
    "\n",
    "# Save the model\n",
    "coreml_model.save(\"../ios/IrisTest/Model/iris_logistic_regression.mlmodel\")"
   ]
  },
  {
   "cell_type": "code",
   "execution_count": null,
   "metadata": {
    "collapsed": true
   },
   "outputs": [],
   "source": []
  },
  {
   "cell_type": "code",
   "execution_count": 2,
   "metadata": {},
   "outputs": [
    {
     "name": "stdout",
     "output_type": "stream",
     "text": [
      "README.ml                        iris_logistic_regression.mlmodel\r\n"
     ]
    }
   ],
   "source": [
    "!ls ../ios/IrisTest/Model"
   ]
  }
 ],
 "metadata": {
  "kernelspec": {
   "display_name": "Python 2",
   "language": "python",
   "name": "python2"
  },
  "language_info": {
   "codemirror_mode": {
    "name": "ipython",
    "version": 2
   },
   "file_extension": ".py",
   "mimetype": "text/x-python",
   "name": "python",
   "nbconvert_exporter": "python",
   "pygments_lexer": "ipython2",
   "version": "2.7.13"
  }
 },
 "nbformat": 4,
 "nbformat_minor": 2
}
